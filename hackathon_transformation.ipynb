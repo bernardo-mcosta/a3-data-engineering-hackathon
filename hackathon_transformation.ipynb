{
  "nbformat": 4,
  "nbformat_minor": 0,
  "metadata": {
    "colab": {
      "provenance": []
    },
    "kernelspec": {
      "name": "python3",
      "display_name": "Python 3"
    },
    "language_info": {
      "name": "python"
    }
  },
  "cells": [
    {
      "cell_type": "code",
      "source": [
        "!pip install pyspark"
      ],
      "metadata": {
        "colab": {
          "base_uri": "https://localhost:8080/"
        },
        "id": "IdVi8_DiinEB",
        "outputId": "40c8c3ea-8875-4d8d-b023-f7236d483a57"
      },
      "execution_count": null,
      "outputs": [
        {
          "output_type": "stream",
          "name": "stdout",
          "text": [
            "Collecting pyspark\n",
            "  Downloading pyspark-3.4.1.tar.gz (310.8 MB)\n",
            "\u001b[2K     \u001b[90m━━━━━━━━━━━━━━━━━━━━━━━━━━━━━━━━━━━━━━━\u001b[0m \u001b[32m310.8/310.8 MB\u001b[0m \u001b[31m2.8 MB/s\u001b[0m eta \u001b[36m0:00:00\u001b[0m\n",
            "\u001b[?25h  Preparing metadata (setup.py) ... \u001b[?25l\u001b[?25hdone\n",
            "Requirement already satisfied: py4j==0.10.9.7 in /usr/local/lib/python3.10/dist-packages (from pyspark) (0.10.9.7)\n",
            "Building wheels for collected packages: pyspark\n",
            "  Building wheel for pyspark (setup.py) ... \u001b[?25l\u001b[?25hdone\n",
            "  Created wheel for pyspark: filename=pyspark-3.4.1-py2.py3-none-any.whl size=311285397 sha256=ab79d14d60ad0e8f45b086dd0834ffca13aaa3fdc233fc86bef8c406f5b409a6\n",
            "  Stored in directory: /root/.cache/pip/wheels/0d/77/a3/ff2f74cc9ab41f8f594dabf0579c2a7c6de920d584206e0834\n",
            "Successfully built pyspark\n",
            "Installing collected packages: pyspark\n",
            "Successfully installed pyspark-3.4.1\n"
          ]
        }
      ]
    },
    {
      "cell_type": "code",
      "source": [
        "import os\n",
        "from pyspark.sql import SparkSession\n",
        "import pyspark.sql.functions as f\n",
        "from pyspark.sql.types import StructType, StructField, IntegerType, StringType, DateType, DoubleType"
      ],
      "metadata": {
        "id": "zHc1E0Clbpfe"
      },
      "execution_count": null,
      "outputs": []
    },
    {
      "cell_type": "code",
      "source": [
        "os.environ['GOOGLE_APPLICATION_CREDENTIALS'] = '/content/service-key-gcloud.json'"
      ],
      "metadata": {
        "id": "YfLZsuxqbsec"
      },
      "execution_count": null,
      "outputs": []
    },
    {
      "cell_type": "code",
      "source": [
        "spark = SparkSession.builder \\\n",
        "    .appName('spark-run-with-gcp-bucket') \\\n",
        "    .config(\"spark.jars\", \"https://storage.googleapis.com/hadoop-lib/gcs/gcs-connector-hadoop3-latest.jar, https://storage.googleapis.com/spark-lib/bigquery/spark-3.3-bigquery-0.32.0.jar\") \\\n",
        "    .config(\"spark.sql.legacy.timeParserPolicy\", \"CORRECTED\") \\\n",
        "    .getOrCreate()\n"
      ],
      "metadata": {
        "id": "1jCGDvXqcHRm"
      },
      "execution_count": null,
      "outputs": []
    },
    {
      "cell_type": "code",
      "source": [
        "bucket_name = 'cnpj-data'\n",
        "folder_name = 'extracted'"
      ],
      "metadata": {
        "id": "MV4KrYnAo2hN"
      },
      "execution_count": null,
      "outputs": []
    },
    {
      "cell_type": "code",
      "source": [
        "socios_schema = StructType([\n",
        "    StructField(\"cnpj_basico\", StringType(), True),\n",
        "    StructField(\"cod_identificador_socio\", IntegerType(), True),\n",
        "    StructField(\"nome_socio\", StringType(), True),\n",
        "    StructField(\"cpf_cnpj_socio\", StringType(), True),\n",
        "    StructField(\"cod_qualificacao_socio\", IntegerType(), True),\n",
        "    StructField(\"data_entrada_sociedade\", StringType(), True),\n",
        "    StructField(\"cod_pais\", IntegerType(), True),\n",
        "    StructField(\"representante_legal\", StringType(), True),\n",
        "    StructField(\"nome_representante\", StringType(), True),\n",
        "    StructField(\"cod_qualificacao_representante\", IntegerType(), True),\n",
        "    StructField(\"cod_faixa_etaria\", IntegerType(), True),\n",
        "])\n",
        "\n",
        "socios_df = spark.read.csv(f'gs://{bucket_name}/{folder_name}/*.SOCIOCSV', schema = socios_schema, sep = ';')\n",
        "\n",
        "socios_df = socios_df.withColumn('data_entrada_sociedade', f.to_date(socios_df[\"data_entrada_sociedade\"], \"yyyyMMdd\"))\n",
        "\n",
        "socios_df.show()"
      ],
      "metadata": {
        "colab": {
          "base_uri": "https://localhost:8080/"
        },
        "id": "gYtZ9OVTVm4c",
        "outputId": "fba0cd9c-26ff-4dba-c7c0-f140db51ca44"
      },
      "execution_count": null,
      "outputs": [
        {
          "output_type": "stream",
          "name": "stdout",
          "text": [
            "+-----------+-----------------------+--------------------+--------------+----------------------+----------------------+--------+-------------------+------------------+------------------------------+----------------+\n",
            "|cnpj_basico|cod_identificador_socio|          nome_socio|cpf_cnpj_socio|cod_qualificacao_socio|data_entrada_sociedade|cod_pais|representante_legal|nome_representante|cod_qualificacao_representante|cod_faixa_etaria|\n",
            "+-----------+-----------------------+--------------------+--------------+----------------------+----------------------+--------+-------------------+------------------+------------------------------+----------------+\n",
            "|   46204351|                      2|RUTHIELLI DOS SAN...|   ***627370**|                    49|            2022-04-29|    null|        ***000000**|              null|                             0|               3|\n",
            "|   46204403|                      2|LUIZ FELIPE FRANC...|   ***446578**|                    49|            2022-04-29|    null|        ***000000**|              null|                             0|               4|\n",
            "|   46204403|                      2|BRUNO DESIDERA RA...|   ***528398**|                    49|            2022-04-29|    null|        ***000000**|              null|                             0|               4|\n",
            "|   46204413|                      2|ANSELMO RICARDO D...|   ***226797**|                    49|            2022-04-29|    null|        ***000000**|              null|                             0|               5|\n",
            "|   46204456|                      2|  LAIS ROCHA ROBERTI|   ***570166**|                    49|            2022-04-29|    null|        ***000000**|              null|                             0|               3|\n",
            "|   46204480|                      2|GIACOMO RAUPP ZANINI|   ***226980**|                    49|            2022-04-29|    null|        ***000000**|              null|                             0|               4|\n",
            "|   46204480|                      2|RAFAELA FAVERO BA...|   ***445880**|                    49|            2022-04-29|    null|        ***000000**|              null|                             0|               4|\n",
            "|   46204513|                      2|CARLOS FERNANDO D...|   ***429247**|                    49|            2022-04-29|    null|        ***000000**|              null|                             0|               7|\n",
            "|   46204557|                      2|PAULA ANGELA MARI...|   ***557293**|                    49|            2022-04-29|    null|        ***000000**|              null|                             0|               6|\n",
            "|   46204611|                      2|GUSTAVO DA SILVA ...|   ***145037**|                    49|            2022-04-29|    null|        ***000000**|              null|                             0|               6|\n",
            "|   46204710|                      2|SUELI APARECIDA P...|   ***016768**|                    49|            2022-04-29|    null|        ***000000**|              null|                             0|               6|\n",
            "|   46204710|                      2| PEDRO VIGNER JUNIOR|   ***922808**|                    49|            2022-04-29|    null|        ***000000**|              null|                             0|               5|\n",
            "|   46204710|                      2|ELISANGELA OLIVEI...|   ***846458**|                    22|            2022-04-29|    null|        ***000000**|              null|                             0|               5|\n",
            "|   46204710|                      2|MARIA AURENI DE M...|   ***057131**|                    22|            2022-04-29|    null|        ***000000**|              null|                             0|               6|\n",
            "|   46204741|                      2|MARCELO SANTIAGO ...|   ***861708**|                    49|            2022-04-29|    null|        ***000000**|              null|                             0|               4|\n",
            "|   46204752|                      2|LINCON LEIVA LUIZ...|   ***543051**|                    16|            2022-04-22|    null|        ***000000**|              null|                             0|               5|\n",
            "|   46204775|                      2|PAULA DE LUCA NOV...|   ***106248**|                    49|            2022-04-29|    null|        ***000000**|              null|                             0|               4|\n",
            "|   46204786|                      2|RAQUEL BARBOZA DO...|   ***543698**|                    49|            2022-04-29|    null|        ***000000**|              null|                             0|               5|\n",
            "|   46204856|                      2|CHARLES MACIEL LU...|   ***931547**|                    49|            2022-04-29|    null|        ***000000**|              null|                             0|               4|\n",
            "|   46204887|                      2|  THOMAS HOLTZ EGGBY|   ***205664**|                    49|            2022-04-29|    null|        ***000000**|              null|                             0|               3|\n",
            "+-----------+-----------------------+--------------------+--------------+----------------------+----------------------+--------+-------------------+------------------+------------------------------+----------------+\n",
            "only showing top 20 rows\n",
            "\n"
          ]
        }
      ]
    },
    {
      "cell_type": "code",
      "source": [
        "socios_df.write \\\n",
        "  .format(\"bigquery\") \\\n",
        "  .option(\"writeMethod\",\"direct\") \\\n",
        "  .option(\"table\", \"light-truth-391719.processed_cpnj_data.socios\") \\\n",
        "  .mode(\"overwrite\") \\\n",
        "  .save()"
      ],
      "metadata": {
        "id": "tfqBs1sZD9RD"
      },
      "execution_count": null,
      "outputs": []
    },
    {
      "cell_type": "code",
      "source": [
        "empresas_schema = StructType([\n",
        "    StructField(\"cnpj_basico\", StringType(), True),\n",
        "    StructField(\"razao_social\", StringType(), True),\n",
        "    StructField(\"cod_natureza_juridica\", IntegerType(), True),\n",
        "    StructField(\"cod_qualificacao_responsavel\", IntegerType(), True),\n",
        "    StructField(\"capital_social\", StringType(), True),\n",
        "    StructField(\"cod_porte_empresa\", IntegerType(), True),\n",
        "    StructField(\"ente_federativo\", StringType(), True)\n",
        "])\n",
        "\n",
        "empresas_df = spark.read.csv(f'gs://{bucket_name}/{folder_name}/*.EMPRECSV', schema = empresas_schema, sep = ';')\n",
        "\n",
        "empresas_df = empresas_df.withColumn(\"capital_social\", f.regexp_replace(f.col(\"capital_social\"), \",\", \".\").cast(IntegerType()))\n",
        "\n",
        "empresas_df.show()\n"
      ],
      "metadata": {
        "colab": {
          "base_uri": "https://localhost:8080/"
        },
        "id": "WLHk13esaepv",
        "outputId": "2b14ad30-406b-49bf-da3e-01026fd6f4a7"
      },
      "execution_count": null,
      "outputs": [
        {
          "output_type": "stream",
          "name": "stdout",
          "text": [
            "+-----------+--------------------+---------------------+----------------------------+--------------+-----------------+---------------+\n",
            "|cnpj_basico|        razao_social|cod_natureza_juridica|cod_qualificacao_responsavel|capital_social|cod_porte_empresa|ente_federativo|\n",
            "+-----------+--------------------+---------------------+----------------------------+--------------+-----------------+---------------+\n",
            "|   41273597|PACHARRUS QUEIROZ...|                 2135|                          50|          5000|                1|           null|\n",
            "|   41273598|GLORIA VIANA DIAS...|                 2135|                          50|          1100|                1|           null|\n",
            "|   41273599|ANA PAULA DA SILV...|                 2135|                          50|          2000|                1|           null|\n",
            "|   41273600|41.273.600 AVANIL...|                 2135|                          50|         50000|                1|           null|\n",
            "|   41273601|GABRIELA HELENA F...|                 2135|                          50|          2000|                1|           null|\n",
            "|   41273602|FABIO SOUZA DO RO...|                 2135|                          50|         15000|                1|           null|\n",
            "|   41273603|GRAFLINE ACESSORI...|                 2062|                          49|         10000|                1|           null|\n",
            "|   41273604|RUMO - ESTUDIO DE...|                 2062|                          49|         10000|                1|           null|\n",
            "|   41273605|WALLACE DE OLIVEI...|                 2135|                          50|          1000|                1|           null|\n",
            "|   41273606|MARCOS CESAR DE M...|                 2135|                          50|         72000|                1|           null|\n",
            "|   41273607|LAYANE SCARLETT D...|                 2135|                          50|             1|                1|           null|\n",
            "|   41273608|FRANCISCA SAMPAIO...|                 2135|                          50|             0|                1|           null|\n",
            "|   41273609|INGRID DIAS ALVES...|                 2135|                          50|         10000|                1|           null|\n",
            "|   41273610|DAIANE DE SOUZA 0...|                 2135|                          50|          2500|                1|           null|\n",
            "|   41273611|RENATO MOREIRA DA...|                 2135|                          50|          2000|                1|           null|\n",
            "|   41273612|ELLEN FABIANI SOU...|                 2062|                          49|          1000|                1|           null|\n",
            "|   41273613|ICARO SALAZAR FAR...|                 2135|                          50|          1000|                1|           null|\n",
            "|   41273614|SERGIO BUENO DE F...|                 2135|                          50|          4000|                1|           null|\n",
            "|   41273615|FELIPE FERREIRA D...|                 2135|                          50|          5000|                1|           null|\n",
            "|   41273616|ANTONIO MORAIS DA...|                 2135|                          50|             0|                1|           null|\n",
            "+-----------+--------------------+---------------------+----------------------------+--------------+-----------------+---------------+\n",
            "only showing top 20 rows\n",
            "\n"
          ]
        }
      ]
    },
    {
      "cell_type": "code",
      "source": [
        "empresas_df.write \\\n",
        "  .format(\"bigquery\") \\\n",
        "  .option(\"writeMethod\",\"direct\") \\\n",
        "  .option(\"table\", \"light-truth-391719.processed_cpnj_data.empresas\") \\\n",
        "  .mode(\"overwrite\") \\\n",
        "  .save()"
      ],
      "metadata": {
        "id": "29KTFlJwIaxG"
      },
      "execution_count": null,
      "outputs": []
    },
    {
      "cell_type": "code",
      "source": [
        "estabelecimento_schema = StructType([\n",
        "    StructField(\"cnpj_basico\", StringType(), True),\n",
        "    StructField(\"cnpj_ordem\", StringType(), True),\n",
        "    StructField(\"cnpj_digito_verificador\", StringType(), True),\n",
        "    StructField(\"cod_identificador_matriz\", IntegerType(), True),\n",
        "    StructField(\"nome_fantasia\", StringType(), True),\n",
        "    StructField(\"cod_situacao_cadastral\", IntegerType(), True),\n",
        "    StructField(\"data_situacao_cadastral\", StringType(), True),\n",
        "    StructField(\"cod_motivo\", IntegerType(), True),\n",
        "    StructField(\"nome_cidade_exterior\", StringType(), True),\n",
        "    StructField(\"cod_pais\", IntegerType(), True),\n",
        "    StructField(\"data_inicio\", StringType(), True),\n",
        "    StructField(\"cod_cnae_principal\", StringType(), True),\n",
        "    StructField(\"cod_cnae_secundario\", StringType(), True),\n",
        "    StructField(\"tipo_logradouro\", StringType(), True),\n",
        "    StructField(\"logradouro\", StringType(), True),\n",
        "    StructField(\"numero\", StringType(), True),\n",
        "    StructField(\"complemento\", StringType(), True),\n",
        "    StructField(\"bairro\", StringType(), True),\n",
        "    StructField(\"cep\", StringType(), True),\n",
        "    StructField(\"uf\", StringType(), True),\n",
        "    StructField(\"cod_municipio\", IntegerType(), True),\n",
        "    StructField(\"ddd_1\", StringType(), True),\n",
        "    StructField(\"telefone_1\", StringType(), True),\n",
        "    StructField(\"ddd_2\", StringType(), True),\n",
        "    StructField(\"telefone_2\", StringType(), True),\n",
        "    StructField(\"ddd_fax\", StringType(), True),\n",
        "    StructField(\"fax\", StringType(), True),\n",
        "    StructField(\"correio_eletronico\", StringType(), True),\n",
        "    StructField(\"situacao_especial\", StringType(), True),\n",
        "    StructField(\"data_situacao_especial\", StringType(), True)\n",
        "])\n",
        "\n",
        "estabelecimento_df = spark.read.csv(f'gs://{bucket_name}/{folder_name}/*.ESTABELE', schema = estabelecimento_schema, sep = ';')\n",
        "\n",
        "estabelecimento_df = estabelecimento_df.withColumn('data_situacao_cadastral', f.to_date(estabelecimento_df[\"data_situacao_cadastral\"], \"yyyyMMdd\"))\n",
        "estabelecimento_df = estabelecimento_df.withColumn('data_inicio', f.to_date(estabelecimento_df[\"data_inicio\"], \"yyyyMMdd\"))\n",
        "estabelecimento_df = estabelecimento_df.withColumn('data_situacao_especial', f.to_date(estabelecimento_df[\"data_situacao_especial\"], \"yyyyMMdd\"))\n",
        "\n",
        "estabelecimento_df.show()"
      ],
      "metadata": {
        "colab": {
          "base_uri": "https://localhost:8080/"
        },
        "id": "dhLvC35BdaA5",
        "outputId": "603a693e-2ed5-4d10-dcc3-f20241ba9026"
      },
      "execution_count": null,
      "outputs": [
        {
          "output_type": "stream",
          "name": "stdout",
          "text": [
            "+-----------+----------+-----------------------+------------------------+--------------------+----------------------+-----------------------+----------+--------------------+--------+-----------+--------------+--------------------+---------------+--------------------+------+--------------------+--------------------+--------+---+-------------+-----+----------+-----+----------+-------+--------+--------------------+-----------------+----------------------+\n",
            "|cnpj_basico|cnpj_ordem|cnpj_digito_verificador|cod_identificador_matriz|       nome_fantasia|cod_situacao_cadastral|data_situacao_cadastral|cod_motivo|nome_cidade_exterior|cod_pais|data_inicio|cnae_principal|     cnae_secundario|tipo_logradouro|          logradouro|numero|         complemento|              bairro|     cep| uf|cod_municipio|ddd_1|telefone_1|ddd_2|telefone_2|ddd_fax|     fax|  correio_eletronico|situacao_especial|data_situacao_especial|\n",
            "+-----------+----------+-----------------------+------------------------+--------------------+----------------------+-----------------------+----------+--------------------+--------+-----------+--------------+--------------------+---------------+--------------------+------+--------------------+--------------------+--------+---+-------------+-----+----------+-----+----------+-------+--------+--------------------+-----------------+----------------------+\n",
            "|   23615079|      0001|                     60|                       1|KING FOODS DISTRI...|                     8|             2019-01-15|         1|                null|    null| 2015-11-06|       4691500|                null|            RUA|EXPEDICIONARIO JO...|   512|                null|     JARDIM ORIENTAL|19901730| SP|         6795|   14|  33252477| null|      null|   null|    null|KINGFOODSDISTRIBU...|             null|                  null|\n",
            "|   23615093|      0001|                     64|                       1|GABRIEL DOMINGOS ...|                     8|             2016-04-25|         1|                null|    null| 2015-11-06|       4781400|                null|            RUA|            AQUIDABA|   805|             CASA 20|               MEIER|20720294| RJ|         6001|   21|  99087165| null|      null|   null|    null|CRISPSICO2003@IG....|             null|                  null|\n",
            "|   23615102|      0001|                     17|                       1|                null|                     2|             2015-10-27|         0|                null|    null| 2015-10-27|       6463800|                null|        AVENIDA|     DUQUE DE CAXIAS|   240|           APT   102|QUATORZE DE FEVER...|35900236| MG|         4633|   31|  38341111| null|      null|     31|38341111|CADASTRO@CELTALTD...|             null|                  null|\n",
            "|   23615117|      0001|                     85|                       1|       JAMG REFORMAS|                     4|             2021-02-09|        63|                null|    null| 2015-11-06|       4399103|             4330404|            RUA|            CAMBORIU|    09|   QUADRA 09 LOTA 09|MORADA DE LARANJE...|29166849| ES|         5699|   27|  95283255| null|      null|   null|    null|jamg_reformas@out...|             null|                  null|\n",
            "|   18865607|      0001|                     08|                       1|BOX 7 MARTELINHO ...|                     4|             2020-10-22|        63|                null|    null| 2013-09-12|       4520002|4520001,4520004,4...|            RUA|         DA IMPRENSA|   102|QUADRA39         ...|          RODOVIARIO|74430240| GO|         9373|   62|  30971520|   62|  85738725|   null|    null|omegactb@hotmail.com|             null|                  null|\n",
            "|   23615138|      0001|                     09|                       1|    LOJAO VARIEDADES|                     4|             2019-03-26|        63|                null|    null| 2015-11-06|       4781400|4782201,4789001,4...|            RUA|   ANIBAL CANTARELLI|    16|                null|              CENTRO|56980000| PE|         2485|   87|  99331133| null|      null|   null|    null|                null|             null|                  null|\n",
            "|   23615150|      0001|                     05|                       1|MARCIA BOLOS E TO...|                     4|             2021-04-26|        63|                null|    null| 2015-11-06|       5620104|             1091102|            RUA|     SENHORA SANTANA|   141|                null|         NOVA POJUCA|48120000| BA|         3805|   71|  99496622| null|      null|   null|    null|                null|             null|                  null|\n",
            "|   16817455|      0001|                     34|                       1|       CONCEPT SOUND|                     8|             2018-02-01|        67|                null|    null| 2012-09-08|       4530703|                null|            RUA|  HAMILTON DE ARAUJO|   101|                null|         VILA CAIUBA|05207010| SP|         7107|   11|  67517188| null|      null|   null|    null|michael689@gmail.com|             null|                  null|\n",
            "|   23615170|      0001|                     86|                       1|         LUZIA MODAS|                     2|             2021-03-02|         0|                null|    null| 2015-11-06|       7319002|             1412601|            RUA|          ELIAS JOAO|    97|                CASA|          BELA VISTA|29700877| ES|         5629|   27|  97659653| null|      null|   null|    null|ELUANARODRIGGUES@...|             null|                  null|\n",
            "|   11098433|      0017|                     05|                       2|                null|                     2|             2015-11-05|         0|                null|    null| 2015-11-05|       4782201|4781400,4782202,4...|        AVENIDA|       REBOUCAS 3970|  3970|LOJA  219 E      ...|           PINHEIROS|05402918| SP|         7107|   11|  21976303|   11|  21668888|   null|    null|LOJA95@NBBRASIL.C...|             null|                  null|\n",
            "|   23615194|      0001|                     35|                       1|    COMIDA DE BUTECO|                     8|             2016-04-26|         1|                null|    null| 2015-11-06|       5611204|                null|            RUA|         SANTA LUZIA|   449|                null|               TREVO|35640000| MG|         5039|   37|  99188482| null|      null|   null|    null|                null|             null|                  null|\n",
            "|   23615207|      0001|                     76|                       1|        FLORAL MODAS|                     4|             2021-03-18|        63|                null|    null| 2015-11-06|       4781400|4763601,4789001,4...|            RUA|GUEDES DE SOUZA M...|    SN|             SALA 03|        VILA BEATRIZ|88915000| SC|         8391|   48|  98286865| null|      null|   null|    null|                null|             null|                  null|\n",
            "|   23615218|      0001|                     56|                       1|                null|                     4|             2021-02-25|        63|                null|    null| 2015-11-06|       4723700|                null|            RUA|JERONIMO TIMOTEO ...|    82|                null|        SAO JERONIMO|94040130| RS|         8683|   51|  34233411| null|      null|   null|    null|jc.vieira2@hotmai...|             null|                  null|\n",
            "|   23615231|      0001|                     05|                       1|CASA DE CARNE SAN...|                     2|             2015-11-06|         0|                null|    null| 2015-11-06|       4722901|     4712100,1013901|            RUA|    OTINO DE FREITAS|   288|                null|              CENTRO|39508000| MG|         2893|   38|  92242333| null|      null|   null|    null|                null|             null|                  null|\n",
            "|   23615239|      0001|                     71|                       1|      MECANICA ROCHA|                     8|             2018-08-14|         1|                null|    null| 2015-11-06|       4520001|     3314712,3314701|            RUA|JOSE DIAS DE VASC...|   292|                null|            BRASILIA|58307250| PB|         1937|   83|  86675822| null|      null|   null|    null|                null|             null|                  null|\n",
            "|   21263862|      0001|                     87|                       1|MARLENE AROMAS E ...|                     8|             2015-11-06|         1|                null|    null| 2014-10-21|       2063100|             4772500|            RUA|CORONEL ARLINDO D...|   242|                null|PARQUE ALTO DO RI...|04823240| SP|         7107|   11|  56611937| null|      null|   null|    null|baltazar.marlene@...|             null|                  null|\n",
            "|   23615261|      0001|                     11|                       1|FHENIX MOVEIS E C...|                     4|             2020-10-27|        63|                null|    null| 2015-11-06|       4754702|             4754701|        AVENIDA|  PRESIDENTE KENNEDY|   440|                null|            CAMPINAS|88101000| SC|         8327|   48|  33717600|   48|  33718600|     48|33717600|EDVALDO@PAZEFARIA...|             null|                  null|\n",
            "|   23615275|      0001|                     35|                       1|     ASSESSOR INVEST|                     4|             2021-02-26|        63|                null|    null| 2015-11-06|       6920601|                null|        AVENIDA|BERNARDINO DE CAMPOS|    98|                null|             PARAISO|04004040| SP|         7107|   11|  40119093| null|      null|   null|    null|                null|             null|                  null|\n",
            "|   09280870|      0001|                     36|                       1|                null|                     8|             2022-01-14|         1|                null|    null| 2007-12-04|       4751201|8599603,8599604,9...|            RUA|BENEDICTA CARDOSO...|   330|                null|         AGUA BRANCA|13424786| SP|         6875|   19|  34021216|   19|  91034440|     19|34117800|CONTATO@PONTONETI...|             null|                  null|\n",
            "|   23615299|      0001|                     94|                       1|                null|                     8|             2018-10-16|        37|                null|    null| 2015-11-06|       0139306|                null|        FAZENDA|       SANTA BARBARA|    SN|          ZONA RURAL|   FAZ SANTA BARBARA|15160000| SP|         6899|   17|  38191133|   17|  38191403|     17|38191133|BRITOPOLONI@GMAIL...|             null|                  null|\n",
            "+-----------+----------+-----------------------+------------------------+--------------------+----------------------+-----------------------+----------+--------------------+--------+-----------+--------------+--------------------+---------------+--------------------+------+--------------------+--------------------+--------+---+-------------+-----+----------+-----+----------+-------+--------+--------------------+-----------------+----------------------+\n",
            "only showing top 20 rows\n",
            "\n"
          ]
        }
      ]
    },
    {
      "cell_type": "code",
      "source": [
        "estabelecimento_df.write \\\n",
        "  .format(\"bigquery\") \\\n",
        "  .option(\"writeMethod\",\"direct\") \\\n",
        "  .option(\"table\", \"light-truth-391719.processed_cpnj_data.estabelecimento\") \\\n",
        "  .mode(\"overwrite\") \\\n",
        "  .save()"
      ],
      "metadata": {
        "id": "ZcYHCc4RIf5B"
      },
      "execution_count": null,
      "outputs": []
    },
    {
      "cell_type": "code",
      "source": [
        "paises_schema = StructType([\n",
        "    StructField(\"cod_pais\", IntegerType(), True),\n",
        "    StructField(\"pais\", StringType(), True)\n",
        "])\n",
        "\n",
        "paises_df = spark.read.csv(f'gs://{bucket_name}/{folder_name}/F.K03200$Z.D30610.PAISCSV',schema = paises_schema, sep = ';')\n",
        "\n",
        "paises_df.show()"
      ],
      "metadata": {
        "id": "zUO3uQEC88YU",
        "colab": {
          "base_uri": "https://localhost:8080/"
        },
        "outputId": "452fdaea-d2f5-42c3-8917-fc7211156abc"
      },
      "execution_count": null,
      "outputs": [
        {
          "output_type": "stream",
          "name": "stdout",
          "text": [
            "+--------+--------------------+\n",
            "|cod_pais|                pais|\n",
            "+--------+--------------------+\n",
            "|       0|       COLIS POSTAUX|\n",
            "|      13|         AFEGANISTAO|\n",
            "|      17|             ALBANIA|\n",
            "|      20|ALBORAN-PEREJIL,I...|\n",
            "|      23|            ALEMANHA|\n",
            "|      25|ALEMANHA, REP. DE...|\n",
            "|      31|        BURKINA FASO|\n",
            "|      37|             ANDORRA|\n",
            "|      40|              ANGOLA|\n",
            "|      41|            ANGUILLA|\n",
            "|      43|   ANTIGUA E BARBUDA|\n",
            "|      47| ANTILHAS HOLANDESAS|\n",
            "|      53|      ARABIA SAUDITA|\n",
            "|      59|             ARGELIA|\n",
            "|      63|           ARGENTINA|\n",
            "|      64|ARMENIA, REPUBLIC...|\n",
            "|      65|               ARUBA|\n",
            "|      69|           AUSTRALIA|\n",
            "|      72|             AUSTRIA|\n",
            "|      73|AZERBAIJAO, REPUB...|\n",
            "+--------+--------------------+\n",
            "only showing top 20 rows\n",
            "\n"
          ]
        }
      ]
    },
    {
      "cell_type": "code",
      "source": [
        "paises_df.write \\\n",
        "  .format(\"bigquery\") \\\n",
        "  .option(\"writeMethod\",\"direct\") \\\n",
        "  .option(\"table\", \"light-truth-391719.processed_cpnj_data.paises\") \\\n",
        "  .mode(\"overwrite\") \\\n",
        "  .save()"
      ],
      "metadata": {
        "id": "r6BWeH2gIn9B"
      },
      "execution_count": null,
      "outputs": []
    },
    {
      "cell_type": "code",
      "source": [
        "municipios_schema = StructType([\n",
        "    StructField(\"cod_municipio\", IntegerType(), True),\n",
        "    StructField(\"municipio\", StringType(), True)\n",
        "])\n",
        "\n",
        "municipios_df = spark.read.csv(f'gs://{bucket_name}/{folder_name}/F.K03200$Z.D30610.MUNICCSV',schema = municipios_schema, sep = ';')\n",
        "\n",
        "municipios_df.show()"
      ],
      "metadata": {
        "id": "8S_J-_zA_Z1h",
        "colab": {
          "base_uri": "https://localhost:8080/"
        },
        "outputId": "fa4d32d8-7dcc-4acf-ec36-564ded0cc668"
      },
      "execution_count": null,
      "outputs": [
        {
          "output_type": "stream",
          "name": "stdout",
          "text": [
            "+-------------+--------------------+\n",
            "|cod_municipio|           municipio|\n",
            "+-------------+--------------------+\n",
            "|            1|       GUAJARA-MIRIM|\n",
            "|            2|ALTO ALEGRE DOS P...|\n",
            "|            3|         PORTO VELHO|\n",
            "|            4|             BURITIS|\n",
            "|            5|           JI-PARANA|\n",
            "|            6|         CHUPINGUAIA|\n",
            "|            7|           ARIQUEMES|\n",
            "|            8|             CUJUBIM|\n",
            "|            9|              CACOAL|\n",
            "|           10|          NOVA UNIAO|\n",
            "|           11|       PIMENTA BUENO|\n",
            "|           12|             PARECIS|\n",
            "|           13|             VILHENA|\n",
            "|           14|PIMENTEIRAS DO OESTE|\n",
            "|           15|                JARU|\n",
            "|           16|PRIMAVERA DE ROND...|\n",
            "|           17| OURO PRETO DO OESTE|\n",
            "|           18|  SAO FELIPE D'OESTE|\n",
            "|           19|   PRESIDENTE MEDICI|\n",
            "|           20|SAO FRANCISCO DO ...|\n",
            "+-------------+--------------------+\n",
            "only showing top 20 rows\n",
            "\n"
          ]
        }
      ]
    },
    {
      "cell_type": "code",
      "source": [
        "municipios_df.write \\\n",
        "  .format(\"bigquery\") \\\n",
        "  .option(\"writeMethod\",\"direct\") \\\n",
        "  .option(\"table\", \"light-truth-391719.processed_cpnj_data.municipios\") \\\n",
        "  .mode(\"overwrite\") \\\n",
        "  .save()"
      ],
      "metadata": {
        "id": "T7Mx59gHIrBx"
      },
      "execution_count": null,
      "outputs": []
    },
    {
      "cell_type": "code",
      "source": [
        "qualificacao_schema = StructType([\n",
        "    StructField(\"cod_qualificacao\", IntegerType(), True),\n",
        "    StructField(\"qualificacao\", StringType(), True)\n",
        "])\n",
        "\n",
        "qualificacao_df = spark.read.csv(f'gs://{bucket_name}/{folder_name}/F.K03200$Z.D30610.QUALSCSV', schema = qualificacao_schema, sep = ';',encoding=\"Windows-1252\")\n",
        "\n",
        "qualificacao_df.show()"
      ],
      "metadata": {
        "id": "e2E4LdKTBJaN",
        "colab": {
          "base_uri": "https://localhost:8080/"
        },
        "outputId": "33585acd-f451-45da-b6c2-496a89f161b9"
      },
      "execution_count": null,
      "outputs": [
        {
          "output_type": "stream",
          "name": "stdout",
          "text": [
            "+----------------+--------------------+\n",
            "|cod_qualificacao|        qualificacao|\n",
            "+----------------+--------------------+\n",
            "|               0|       Não informada|\n",
            "|               5|       Administrador|\n",
            "|               8|Conselheiro de Ad...|\n",
            "|               9|             Curador|\n",
            "|              10|             Diretor|\n",
            "|              11|         Interventor|\n",
            "|              12|       Inventariante|\n",
            "|              13|          Liquidante|\n",
            "|              14|                 Mãe|\n",
            "|              15|                 Pai|\n",
            "|              16|          Presidente|\n",
            "|              17|          Procurador|\n",
            "|              18|          Secretário|\n",
            "|              19|Síndico (Condomínio)|\n",
            "|              20|Sociedade Consorc...|\n",
            "|              21|   Sociedade Filiada|\n",
            "|              22|               Sócio|\n",
            "|              23|   Sócio Capitalista|\n",
            "|              24|   Sócio Comanditado|\n",
            "|              25|  Sócio Comanditário|\n",
            "+----------------+--------------------+\n",
            "only showing top 20 rows\n",
            "\n"
          ]
        }
      ]
    },
    {
      "cell_type": "code",
      "source": [
        "qualificacao_df.write \\\n",
        "  .format(\"bigquery\") \\\n",
        "  .option(\"writeMethod\",\"direct\") \\\n",
        "  .option(\"table\", \"light-truth-391719.processed_cpnj_data.qualificacao\") \\\n",
        "  .mode(\"overwrite\") \\\n",
        "  .save()"
      ],
      "metadata": {
        "id": "sSziv7avIuvh"
      },
      "execution_count": null,
      "outputs": []
    },
    {
      "cell_type": "code",
      "source": [
        "natureza_schema = StructType([\n",
        "    StructField(\"cod_natureza_juridica\", IntegerType(), True),\n",
        "    StructField(\"natureza_juridica\", StringType(), True)\n",
        "])\n",
        "\n",
        "natureza_juridica_df = spark.read.csv(f'gs://{bucket_name}/{folder_name}/F.K03200$Z.D30610.NATJUCSV', schema = natureza_schema, sep = ';', encoding=\"Windows-1252\")\n",
        "\n",
        "natureza_juridica_df.show()"
      ],
      "metadata": {
        "id": "awb2lR5zCTds",
        "colab": {
          "base_uri": "https://localhost:8080/"
        },
        "outputId": "a054bead-662d-4a7c-e9cc-4cf3204451c7"
      },
      "execution_count": null,
      "outputs": [
        {
          "output_type": "stream",
          "name": "stdout",
          "text": [
            "+---------------------+--------------------+\n",
            "|cod_natureza_juridica|   natureza_juridica|\n",
            "+---------------------+--------------------+\n",
            "|                    0|Natureza Jurídica...|\n",
            "|                 3271|Órgão de Direção ...|\n",
            "|                 3280|Comitê Financeiro...|\n",
            "|                 3298|Frente Plebiscitá...|\n",
            "|                 3301|Organização Socia...|\n",
            "|                 3999|  Associação Privada|\n",
            "|                 4014|Empresa Individua...|\n",
            "|                 4090|Candidato a Cargo...|\n",
            "|                 4120|Produtor Rural (P...|\n",
            "|                 5010|Organização Inter...|\n",
            "|                 5029|Representação Dip...|\n",
            "|                 1015|Órgão Público do ...|\n",
            "|                 1023|Órgão Público do ...|\n",
            "|                 1031|Órgão Público do ...|\n",
            "|                 1040|Órgão Público do ...|\n",
            "|                 1058|Órgão Público do ...|\n",
            "|                 1066|Órgão Público do ...|\n",
            "|                 1074|Órgão Público do ...|\n",
            "|                 1082|Órgão Público do ...|\n",
            "|                 1104|   Autarquia Federal|\n",
            "+---------------------+--------------------+\n",
            "only showing top 20 rows\n",
            "\n"
          ]
        }
      ]
    },
    {
      "cell_type": "code",
      "source": [
        "natureza_juridica_df.write \\\n",
        "  .format(\"bigquery\") \\\n",
        "  .option(\"writeMethod\",\"direct\") \\\n",
        "  .option(\"table\", \"light-truth-391719.processed_cpnj_data.natureza_juridica\") \\\n",
        "  .mode(\"overwrite\") \\\n",
        "  .save()"
      ],
      "metadata": {
        "id": "uIJKClyNI0Cu"
      },
      "execution_count": null,
      "outputs": []
    },
    {
      "cell_type": "code",
      "source": [
        "cnae_schema = StructType([\n",
        "    StructField(\"cod_cnae\", StringType(), True),\n",
        "    StructField(\"atividade\", StringType(), True)\n",
        "])\n",
        "\n",
        "cnae_df = spark.read.csv(f'gs://{bucket_name}/{folder_name}/F.K03200$Z.D30610.CNAECSV', schema = cnae_schema, sep = ';', encoding=\"Windows-1252\")\n",
        "\n",
        "cnae_df.show()"
      ],
      "metadata": {
        "id": "DHPUTESUGG48",
        "colab": {
          "base_uri": "https://localhost:8080/"
        },
        "outputId": "33a1131f-628a-4432-f8cb-60159905ac5b"
      },
      "execution_count": null,
      "outputs": [
        {
          "output_type": "stream",
          "name": "stdout",
          "text": [
            "+--------+--------------------+\n",
            "|cod_cnae|           atividade|\n",
            "+--------+--------------------+\n",
            "|  111301|    Cultivo de arroz|\n",
            "|  111302|    Cultivo de milho|\n",
            "|  111303|    Cultivo de trigo|\n",
            "|  111399|Cultivo de outros...|\n",
            "|  112101|Cultivo de algodã...|\n",
            "|  112102|     Cultivo de juta|\n",
            "|  112199|Cultivo de outras...|\n",
            "|  113000|Cultivo de cana-d...|\n",
            "|  114800|     Cultivo de fumo|\n",
            "|  115600|     Cultivo de soja|\n",
            "|  116401| Cultivo de amendoim|\n",
            "|  116402| Cultivo de girassol|\n",
            "|  116403|   Cultivo de mamona|\n",
            "|  116499|Cultivo de outras...|\n",
            "|  119901|  Cultivo de abacaxi|\n",
            "|  119902|     Cultivo de alho|\n",
            "|  119903|Cultivo de batata...|\n",
            "|  119904|   Cultivo de cebola|\n",
            "|  119905|   Cultivo de feijão|\n",
            "|  119906| Cultivo de mandioca|\n",
            "+--------+--------------------+\n",
            "only showing top 20 rows\n",
            "\n"
          ]
        }
      ]
    },
    {
      "cell_type": "code",
      "source": [
        "cnae_df.write \\\n",
        "  .format(\"bigquery\") \\\n",
        "  .option(\"writeMethod\",\"direct\") \\\n",
        "  .option(\"table\", \"light-truth-391719.processed_cpnj_data.cnae\") \\\n",
        "  .mode(\"overwrite\") \\\n",
        "  .save()"
      ],
      "metadata": {
        "id": "cYpsWyLRI4M0"
      },
      "execution_count": null,
      "outputs": []
    },
    {
      "cell_type": "code",
      "source": [
        "motivos_schema = StructType([\n",
        "    StructField(\"cod_motivo\", IntegerType(), True),\n",
        "    StructField(\"motivo\", StringType(), True)\n",
        "])\n",
        "\n",
        "motivos_df = spark.read.csv(f'gs://{bucket_name}/{folder_name}/F.K03200$Z.D30610.MOTICSV',  schema = motivos_schema, sep = ';', encoding=\"Windows-1252\")\n",
        "\n",
        "motivos_df.show()"
      ],
      "metadata": {
        "id": "_zgHi4aKG-dX",
        "colab": {
          "base_uri": "https://localhost:8080/"
        },
        "outputId": "387ee165-bc25-485b-ebd1-7b40b3e9513a"
      },
      "execution_count": null,
      "outputs": [
        {
          "output_type": "stream",
          "name": "stdout",
          "text": [
            "+----------+--------------------+\n",
            "|cod_motivo|              motivo|\n",
            "+----------+--------------------+\n",
            "|         0|          SEM MOTIVO|\n",
            "|         1|EXTINCAO POR ENCE...|\n",
            "|         2|        INCORPORACAO|\n",
            "|         3|               FUSAO|\n",
            "|         4|         CISAO TOTAL|\n",
            "|         5|ENCERRAMENTO DA F...|\n",
            "|         6|ENCERRAMENTO DA L...|\n",
            "|         7|   ELEVACAO A MATRIZ|\n",
            "|         8|          TRANSPASSE|\n",
            "|         9|NAO INICIO DE ATI...|\n",
            "|        10|EXTINCAO PELO ENC...|\n",
            "|        11|ANULACAO POR MULT...|\n",
            "|        12|ANULACAO ONLINE D...|\n",
            "|        13|     OMISSA CONTUMAZ|\n",
            "|        14|OMISSA NAO LOCALI...|\n",
            "|        15|INEXISTENCIA DE FATO|\n",
            "|        16| ANULACAO POR VICIOS|\n",
            "|        17|BAIXA INICIADA EM...|\n",
            "|        18|INTERRUPCAO TEMPO...|\n",
            "|        21|PEDIDO DE BAIXA I...|\n",
            "+----------+--------------------+\n",
            "only showing top 20 rows\n",
            "\n"
          ]
        }
      ]
    },
    {
      "cell_type": "code",
      "source": [
        "motivos_df.write \\\n",
        "  .format(\"bigquery\") \\\n",
        "  .option(\"writeMethod\",\"direct\") \\\n",
        "  .option(\"table\", \"light-truth-391719.processed_cpnj_data.motivos\") \\\n",
        "  .mode(\"overwrite\") \\\n",
        "  .save()"
      ],
      "metadata": {
        "id": "ly2t34yWI8wb"
      },
      "execution_count": null,
      "outputs": []
    },
    {
      "cell_type": "code",
      "source": [
        "porte_empresa =[\n",
        "    (0,'Não informado'),\n",
        "    (1,'Micro empresa'),\n",
        "    (3,'Pequeno porte'),\n",
        "    (5,'Demais')\n",
        "]\n",
        "\n",
        "porte_schema = StructType([\n",
        "    StructField(\"cod_porte_empresa\", IntegerType(), True),\n",
        "    StructField(\"porte_empresa\", StringType(), True)\n",
        "])\n",
        "\n",
        "porte_empresa_df = spark.createDataFrame(porte_empresa, schema = porte_schema)\n",
        "\n",
        "porte_empresa_df.show()\n",
        "porte_empresa_df.printSchema()"
      ],
      "metadata": {
        "id": "a0Xva9EyTJH4",
        "colab": {
          "base_uri": "https://localhost:8080/"
        },
        "outputId": "4cc3ef41-ad69-4840-c29a-817f498b20e9"
      },
      "execution_count": null,
      "outputs": [
        {
          "output_type": "stream",
          "name": "stdout",
          "text": [
            "+-----------------+-------------+\n",
            "|cod_porte_empresa|porte_empresa|\n",
            "+-----------------+-------------+\n",
            "|                0|Não informado|\n",
            "|                1|Micro empresa|\n",
            "|                3|Pequeno porte|\n",
            "|                5|       Demais|\n",
            "+-----------------+-------------+\n",
            "\n",
            "root\n",
            " |-- cod_porte_empresa: integer (nullable = true)\n",
            " |-- porte_empresa: string (nullable = true)\n",
            "\n"
          ]
        }
      ]
    },
    {
      "cell_type": "code",
      "source": [
        "porte_empresa_df.write \\\n",
        "  .format(\"bigquery\") \\\n",
        "  .option(\"writeMethod\",\"direct\") \\\n",
        "  .option(\"table\", \"light-truth-391719.processed_cpnj_data.porte_empresa\") \\\n",
        "  .mode(\"overwrite\") \\\n",
        "  .save()"
      ],
      "metadata": {
        "id": "GCJJHkJ5JANi"
      },
      "execution_count": null,
      "outputs": []
    },
    {
      "cell_type": "code",
      "source": [
        "identificador_matriz =[\n",
        "    (1,'Matriz'),\n",
        "    (2,'Filial')\n",
        "]\n",
        "\n",
        "identificador_matriz_schema = StructType([\n",
        "    StructField(\"cod_identificador_matriz\", IntegerType(), True),\n",
        "    StructField(\"matriz_filial\", StringType(), True)\n",
        "])\n",
        "\n",
        "identificador_matriz_df = spark.createDataFrame(identificador_matriz, schema = identificador_matriz_schema)\n",
        "\n",
        "identificador_matriz_df.show()"
      ],
      "metadata": {
        "id": "55JtS-AuWUE2",
        "colab": {
          "base_uri": "https://localhost:8080/"
        },
        "outputId": "0467f815-41ff-4f99-e091-d46317d073a8"
      },
      "execution_count": null,
      "outputs": [
        {
          "output_type": "stream",
          "name": "stdout",
          "text": [
            "+------------------------+-------------+\n",
            "|cod_identificador_matriz|matriz_filial|\n",
            "+------------------------+-------------+\n",
            "|                       1|       Matriz|\n",
            "|                       2|       Filial|\n",
            "+------------------------+-------------+\n",
            "\n"
          ]
        }
      ]
    },
    {
      "cell_type": "code",
      "source": [
        "identificador_matriz_df.write \\\n",
        "  .format(\"bigquery\") \\\n",
        "  .option(\"writeMethod\",\"direct\") \\\n",
        "  .option(\"table\", \"light-truth-391719.processed_cpnj_data.identificador_matriz\") \\\n",
        "  .mode(\"overwrite\") \\\n",
        "  .save()"
      ],
      "metadata": {
        "id": "WlpbQOFMJEci"
      },
      "execution_count": null,
      "outputs": []
    },
    {
      "cell_type": "code",
      "source": [
        "situacao_cadastral =[\n",
        "    (1,'Nula'),\n",
        "    (2,'Ativa'),\n",
        "    (3,'Suspensa'),\n",
        "    (4,'Inapta'),\n",
        "    (8,'Baixada'),\n",
        "]\n",
        "\n",
        "situacao_schema = StructType([\n",
        "    StructField(\"cod_situacao_cadastral\", IntegerType(), True),\n",
        "    StructField(\"situacao_cadastral\", StringType(), True)\n",
        "])\n",
        "\n",
        "situacao_cadastral_df = spark.createDataFrame(situacao_cadastral, schema = situacao_schema)\n",
        "\n",
        "situacao_cadastral_df.show()"
      ],
      "metadata": {
        "id": "g3ABHRKhWuBm",
        "colab": {
          "base_uri": "https://localhost:8080/"
        },
        "outputId": "0190fb37-985b-4ceb-f734-fa8dfece59d0"
      },
      "execution_count": null,
      "outputs": [
        {
          "output_type": "stream",
          "name": "stdout",
          "text": [
            "+----------------------+------------------+\n",
            "|cod_situacao_cadastral|situacao_cadastral|\n",
            "+----------------------+------------------+\n",
            "|                     1|              Nula|\n",
            "|                     2|             Ativa|\n",
            "|                     3|          Suspensa|\n",
            "|                     4|            Inapta|\n",
            "|                     8|           Baixada|\n",
            "+----------------------+------------------+\n",
            "\n"
          ]
        }
      ]
    },
    {
      "cell_type": "code",
      "source": [
        "situacao_cadastral_df.write \\\n",
        "  .format(\"bigquery\") \\\n",
        "  .option(\"writeMethod\",\"direct\") \\\n",
        "  .option(\"table\", \"light-truth-391719.processed_cpnj_data.situacao_cadastral\") \\\n",
        "  .mode(\"overwrite\") \\\n",
        "  .save()"
      ],
      "metadata": {
        "id": "5Z6hSQB1JIuc"
      },
      "execution_count": null,
      "outputs": []
    },
    {
      "cell_type": "code",
      "source": [
        "identificador_socio =[\n",
        "    (1,'Pessoa Juridica'),\n",
        "    (2,'Pessoa Fisica'),\n",
        "    (3,'Estrangeiro')\n",
        "]\n",
        "\n",
        "socio_schema = StructType([\n",
        "    StructField(\"cod_identificador_socio\", IntegerType(), True),\n",
        "    StructField(\"identificador_socio\", StringType(), True)\n",
        "])\n",
        "\n",
        "identificador_socio_df = spark.createDataFrame(identificador_socio, schema = socio_schema)\n",
        "\n",
        "identificador_socio_df.show()"
      ],
      "metadata": {
        "id": "KgAtaKkwXSO6",
        "colab": {
          "base_uri": "https://localhost:8080/"
        },
        "outputId": "f8bd1568-13f4-4832-a788-8d5825368696"
      },
      "execution_count": null,
      "outputs": [
        {
          "output_type": "stream",
          "name": "stdout",
          "text": [
            "+-----------------------+-------------------+\n",
            "|cod_identificador_socio|identificador_socio|\n",
            "+-----------------------+-------------------+\n",
            "|                      1|    Pessoa Juridica|\n",
            "|                      2|      Pessoa Fisica|\n",
            "|                      3|        Estrangeiro|\n",
            "+-----------------------+-------------------+\n",
            "\n"
          ]
        }
      ]
    },
    {
      "cell_type": "code",
      "source": [
        "identificador_socio_df.write \\\n",
        "  .format(\"bigquery\") \\\n",
        "  .option(\"writeMethod\",\"direct\") \\\n",
        "  .option(\"table\", \"light-truth-391719.processed_cpnj_data.identificador_socio\") \\\n",
        "  .mode(\"overwrite\") \\\n",
        "  .save()"
      ],
      "metadata": {
        "id": "O-xHJTfJJPuv"
      },
      "execution_count": null,
      "outputs": []
    },
    {
      "cell_type": "code",
      "source": [
        "faixa_etaria =[\n",
        "    (1,'0 a 12'),\n",
        "    (2,'13 a 20'),\n",
        "    (3,'21 a 30'),\n",
        "    (4,'31 a 40'),\n",
        "    (5,'41 a 50'),\n",
        "    (6,'51 a 60'),\n",
        "    (7,'61 a 70'),\n",
        "    (8,'71 a 80'),\n",
        "    (9,'+80'),\n",
        "    (0,'Não se aplica'),\n",
        "]\n",
        "\n",
        "faixa_etaria_schema = StructType([\n",
        "    StructField(\"cod_faixa_etaria\", IntegerType(), True),\n",
        "    StructField(\"faixa_etaria\", StringType(), True)\n",
        "])\n",
        "faixa_etaria_df = spark.createDataFrame(faixa_etaria, schema = faixa_etaria_schema)\n",
        "\n",
        "faixa_etaria_df.show()"
      ],
      "metadata": {
        "id": "IcT0s9hkXros",
        "colab": {
          "base_uri": "https://localhost:8080/"
        },
        "outputId": "cc0aa60e-af19-4c73-aaac-1da81bb0de4a"
      },
      "execution_count": null,
      "outputs": [
        {
          "output_type": "stream",
          "name": "stdout",
          "text": [
            "+----------------+-------------+\n",
            "|cod_faixa_etaria| faixa_etaria|\n",
            "+----------------+-------------+\n",
            "|               1|       0 a 12|\n",
            "|               2|      13 a 20|\n",
            "|               3|      21 a 30|\n",
            "|               4|      31 a 40|\n",
            "|               5|      41 a 50|\n",
            "|               6|      51 a 60|\n",
            "|               7|      61 a 70|\n",
            "|               8|      71 a 80|\n",
            "|               9|          +80|\n",
            "|               0|Não se aplica|\n",
            "+----------------+-------------+\n",
            "\n"
          ]
        }
      ]
    },
    {
      "cell_type": "code",
      "source": [
        "faixa_etaria_df.write \\\n",
        "  .format(\"bigquery\") \\\n",
        "  .option(\"writeMethod\",\"direct\") \\\n",
        "  .option(\"table\", \"light-truth-391719.processed_cpnj_data.faixa_etaria\") \\\n",
        "  .mode(\"overwrite\") \\\n",
        "  .save()"
      ],
      "metadata": {
        "id": "qqHSXbo4r_un"
      },
      "execution_count": null,
      "outputs": []
    },
    {
      "cell_type": "code",
      "source": [
        "simples_schema = StructType([\n",
        "    StructField(\"cnpj_basico\", StringType(), True),\n",
        "    StructField(\"opcao_simples\", StringType(), True),\n",
        "    StructField(\"data_opcao_simples\", StringType(), True),\n",
        "    StructField(\"data_exclusao_simples\", StringType(), True),\n",
        "    StructField(\"opcao_mei\", StringType(), True),\n",
        "    StructField(\"data_opcao_mei\", StringType(), True),\n",
        "    StructField(\"data_exclusao_mei\", StringType(), True)\n",
        "])\n",
        "\n",
        "simples_df = spark.read.csv(f'gs://{bucket_name}/{folder_name}/F.K03200$W.SIMPLES.CSV.D30610', schema = simples_schema, sep = ';')\n",
        "\n",
        "simples_df = simples_df.withColumn('data_opcao_simples', f.to_date(simples_df[\"data_opcao_simples\"], \"yyyyMMdd\"))\n",
        "simples_df = simples_df.withColumn('data_exclusao_simples', f.to_date(simples_df[\"data_exclusao_simples\"], \"yyyyMMdd\"))\n",
        "simples_df = simples_df.withColumn('data_opcao_mei', f.to_date(simples_df[\"data_opcao_mei\"], \"yyyyMMdd\"))\n",
        "simples_df = simples_df.withColumn('data_exclusao_mei', f.to_date(simples_df[\"data_exclusao_mei\"], \"yyyyMMdd\"))\n",
        "\n",
        "simples_df.show()"
      ],
      "metadata": {
        "colab": {
          "base_uri": "https://localhost:8080/"
        },
        "id": "w2btauijfcuD",
        "outputId": "c172d8ec-0910-4a26-ac42-bc00b494a4b0"
      },
      "execution_count": null,
      "outputs": [
        {
          "output_type": "stream",
          "name": "stdout",
          "text": [
            "+-----------+-------------+------------------+---------------------+---------+--------------+-----------------+\n",
            "|cnpj_basico|opcao_simples|data_opcao_simples|data_exclusao_simples|opcao_mei|data_opcao_mei|data_exclusao_mei|\n",
            "+-----------+-------------+------------------+---------------------+---------+--------------+-----------------+\n",
            "|   00000000|            N|        2007-07-01|           2007-07-01|        N|    2009-07-01|       2009-07-01|\n",
            "|   00000006|            N|        2018-01-01|           2019-12-31|        N|          null|             null|\n",
            "|   00000008|            N|        2014-01-01|           2021-12-31|        N|          null|             null|\n",
            "|   00000011|            S|        2007-07-01|                 null|        N|          null|             null|\n",
            "|   00000013|            S|        2009-01-01|                 null|        N|          null|             null|\n",
            "|   00000015|            N|        2007-07-01|           2008-12-31|        N|          null|             null|\n",
            "|   00000030|            N|        2015-01-01|           2015-12-31|        N|          null|             null|\n",
            "|   00000040|            S|        2007-07-01|                 null|        N|          null|             null|\n",
            "|   00000041|            N|        2007-07-01|           2015-11-03|        N|          null|             null|\n",
            "|   00000056|            N|        2012-01-01|           2014-12-03|        N|          null|             null|\n",
            "|   00000065|            N|        2007-07-01|           2019-12-31|        N|          null|             null|\n",
            "|   00000068|            N|        2015-01-01|           2015-12-31|        N|          null|             null|\n",
            "|   00000091|            N|        2007-07-01|           2007-12-31|        N|          null|             null|\n",
            "|   00000092|            N|        2007-07-01|           2008-05-23|        N|          null|             null|\n",
            "|   00000103|            S|        2007-07-01|                 null|        N|          null|             null|\n",
            "|   00000108|            S|        2015-01-01|                 null|        N|          null|             null|\n",
            "|   00000124|            N|        2007-07-01|           2007-07-01|        N|          null|             null|\n",
            "|   00000127|            S|        2007-07-01|                 null|        N|          null|             null|\n",
            "|   00000142|            N|        2011-01-01|           2013-07-01|        N|          null|             null|\n",
            "|   00000156|            S|        2015-01-01|                 null|        N|          null|             null|\n",
            "+-----------+-------------+------------------+---------------------+---------+--------------+-----------------+\n",
            "only showing top 20 rows\n",
            "\n"
          ]
        }
      ]
    },
    {
      "cell_type": "code",
      "source": [
        "batch_size = 10000\n",
        "\n",
        "batched_df = simples_df.repartition(batch_size)\n",
        "\n",
        "batched_df.write \\\n",
        "    .format(\"bigquery\") \\\n",
        "    .option(\"writeMethod\", \"direct\") \\\n",
        "    .option(\"table\", \"light-truth-391719.processed_cpnj_data.simples\") \\\n",
        "    .mode(\"append\") \\\n",
        "    .save()"
      ],
      "metadata": {
        "id": "7ZPEL8VCIkSY"
      },
      "execution_count": null,
      "outputs": []
    }
  ]
}