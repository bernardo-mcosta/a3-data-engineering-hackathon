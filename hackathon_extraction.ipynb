{
  "nbformat": 4,
  "nbformat_minor": 0,
  "metadata": {
    "colab": {
      "provenance": []
    },
    "kernelspec": {
      "name": "python3",
      "display_name": "Python 3"
    },
    "language_info": {
      "name": "python"
    }
  },
  "cells": [
    {
      "cell_type": "code",
      "execution_count": null,
      "metadata": {
        "id": "iBdLV6sGL84B"
      },
      "outputs": [],
      "source": [
        "import requests\n",
        "import os\n",
        "from zipfile import ZipFile\n",
        "import io\n",
        "from bs4 import BeautifulSoup\n",
        "from google.cloud import storage\n",
        "from google.cloud.exceptions import Conflict"
      ]
    },
    {
      "cell_type": "code",
      "source": [
        "os.environ['GOOGLE_APPLICATION_CREDENTIALS'] = '/kaggle/input/gcloud-key/service-key-gcloud.json'\n",
        "\n",
        "bucket_name = 'cnpj-data'\n",
        "\n",
        "client = storage.Client()\n",
        "\n",
        "def create_bucket():\n",
        "    location = 'SOUTHAMERICA-EAST1'\n",
        "\n",
        "    try:\n",
        "        # Attempt to create a new bucket\n",
        "        bucket = client.create_bucket(bucket_name,location=location)\n",
        "        print(f'Bucket {bucket_name} created in {bucket_location}.')\n",
        "    except Conflict:\n",
        "        print(f\"Bucket '{bucket_name}' already exists.\")\n",
        "\n",
        "create_bucket()"
      ],
      "metadata": {
        "id": "U87XruHHMSBe"
      },
      "execution_count": null,
      "outputs": []
    },
    {
      "cell_type": "code",
      "source": [
        "bucket = client.get_bucket(bucket_name)\n",
        "folder_path = 'compressed/'\n",
        "\n",
        "existing_files = [blob.name for blob in bucket.list_blobs()]\n",
        "\n",
        "url_list = [\"http://200.152.38.155/CNPJ/\",\n",
        "            \"http://200.152.38.155/CNPJ/regime_tributario/\"]\n",
        "\n",
        "for url in url_list:\n",
        "    response = requests.get(url)\n",
        "    soup = BeautifulSoup(response.text,'html.parser')\n",
        "    file_list = soup.find_all('a',href= lambda href: href.endswith('.zip'))\n",
        "\n",
        "    for file in file_list:\n",
        "        file_name = file['href']\n",
        "        file_url = url + '/' + file_name\n",
        "        if folder_path + file_name in existing_files:\n",
        "            print(f\"Skipping upload for file: {file_name}\")\n",
        "            continue\n",
        "\n",
        "        # Perform the upload\n",
        "        blob = bucket.blob(folder_path + file_name)\n",
        "        response = requests.get(url + '/' + file_name)\n",
        "        blob.upload_from_string(response.content)\n",
        "        print(f\"Uploaded {file_name}\")"
      ],
      "metadata": {
        "id": "mjQyZJv5MZkM"
      },
      "execution_count": null,
      "outputs": []
    },
    {
      "cell_type": "code",
      "source": [
        "# Extract zip files to a new folder\n",
        "\n",
        "bucket_name = 'cnpj-data'\n",
        "compressed_folder = 'compressed/'\n",
        "destination_folder = 'extracted/'\n",
        "\n",
        "storage_client = storage.Client()\n",
        "\n",
        "bucket = storage_client.bucket(bucket_name)\n",
        "blobs = bucket.list_blobs(prefix=compressed_folder)\n",
        "\n",
        "for blob in blobs:\n",
        "    if blob.name.endswith('.zip'):\n",
        "        zip_data = io.BytesIO(blob.download_as_string())\n",
        "\n",
        "        with ZipFile(zip_data,'r') as myzip:\n",
        "            for contentfilename in myzip.namelist():\n",
        "                contentfile = myzip.read(contentfilename)\n",
        "                destination_path = os.path.join(destination_folder, contentfilename)\n",
        "                destination_blob = bucket.blob(destination_path)\n",
        "                destination_blob.upload_from_string(contentfile)\n",
        "                print(f'Extracted {contentfilename}')"
      ],
      "metadata": {
        "id": "Ocb2CP0kMdFP"
      },
      "execution_count": null,
      "outputs": []
    }
  ]
}